{
  "nbformat": 4,
  "nbformat_minor": 0,
  "metadata": {
    "colab": {
      "provenance": []
    },
    "kernelspec": {
      "name": "python3",
      "display_name": "Python 3"
    },
    "language_info": {
      "name": "python"
    }
  },
  "cells": [
    {
      "cell_type": "markdown",
      "source": [
        "GRAFO"
      ],
      "metadata": {
        "id": "LzJJ47sNVtSo"
      }
    },
    {
      "cell_type": "code",
      "source": [
        "class Vertice:\n",
        " def __init__(self, rotulo, distancia_objetivo):\n",
        "  self.rotulo = rotulo\n",
        "  self.visitado = False\n",
        "  self.distancia_objetivo = distancia_objetivo\n",
        "  self.adjacentes = []\n",
        "\n",
        " def adiciona_adjacente(self, adjacente):\n",
        "  self.adjacentes.append(adjacente)\n",
        "\n",
        " def mostra_adjacentes(self):\n",
        "   for i in self.adjacentes:\n",
        "    print(i.vertice.rotulo, i.custo)"
      ],
      "metadata": {
        "id": "Jj1zBCwwVplk"
      },
      "execution_count": 1,
      "outputs": []
    },
    {
      "cell_type": "code",
      "source": [
        "class Adjacente:\n",
        "  def __init__(self, vertice, custo):\n",
        "    self.vertice = vertice\n",
        "    self.custo = custo\n",
        "    self.distancia_aestrela = vertice.distancia_objetivo + self.custo"
      ],
      "metadata": {
        "id": "939tzQbHWEnH"
      },
      "execution_count": 2,
      "outputs": []
    },
    {
      "cell_type": "code",
      "source": [
        "class Grafo:\n",
        "  portouniao = Vertice('Porto Uniao', 203)\n",
        "  paulofrontin = Vertice('Paulo Frontin', 172)\n",
        "  canoinhas = Vertice('Canoinhas', 141)\n",
        "  tresbarras = Vertice('Tres Barras', 131)\n",
        "  saomateusdosul = Vertice('Sao Mateus do Sul ', 123)\n",
        "  irati = Vertice('Irati', 139)\n",
        "  curitiba = Vertice('Curitiba', 0)\n",
        "  palmeira = Vertice('Palmeira', 59)\n",
        "  mafra = Vertice('Mafra', 94)\n",
        "  campolargo = Vertice('Campo Largo', 27)\n",
        "  balsanova = Vertice('Balsa Nova', 41)\n",
        "  lapa = Vertice('Lapa', 74)\n",
        "  tijucasdosul = Vertice('Tijucas do Sul', 56)\n",
        "  araucaria = Vertice('Araucaria', 23)\n",
        "  saojosedospinhais = Vertice('Sao Jose dos Pinhais', 13)\n",
        "  contenda = Vertice('Contenda', 39)\n",
        "\n",
        "  portouniao.adiciona_adjacente(Adjacente(paulofrontin, 46))\n",
        "  portouniao.adiciona_adjacente(Adjacente(canoinhas, 78))\n",
        "  portouniao.adiciona_adjacente(Adjacente(saomateusdosul, 87))\n",
        "\n",
        "  paulofrontin.adiciona_adjacente(Adjacente(portouniao, 46))\n",
        "  paulofrontin.adiciona_adjacente(Adjacente(irati, 75))\n",
        "\n",
        "  irati.adiciona_adjacente(Adjacente(palmeira, 75))\n",
        "  irati.adiciona_adjacente(Adjacente(saomateusdosul, 57))\n",
        "  irati.adiciona_adjacente(Adjacente(paulofrontin, 75))\n",
        "\n",
        "  saomateusdosul.adiciona_adjacente(Adjacente(portouniao, 87))\n",
        "  saomateusdosul.adiciona_adjacente(Adjacente(irati, 57))\n",
        "  saomateusdosul.adiciona_adjacente(Adjacente(palmeira, 77))\n",
        "  saomateusdosul.adiciona_adjacente(Adjacente(tresbarras, 43))\n",
        "  saomateusdosul.adiciona_adjacente(Adjacente(lapa, 60))\n",
        "\n",
        "  canoinhas.adiciona_adjacente(Adjacente(portouniao, 78))\n",
        "  canoinhas.adiciona_adjacente(Adjacente(tresbarras, 12))\n",
        "  canoinhas.adiciona_adjacente(Adjacente(mafra, 66))\n",
        "\n",
        "  tresbarras.adiciona_adjacente(Adjacente(saomateusdosul, 43))\n",
        "  tresbarras.adiciona_adjacente(Adjacente(canoinhas, 12))\n",
        "\n",
        "  palmeira.adiciona_adjacente(Adjacente(irati, 75))\n",
        "  palmeira.adiciona_adjacente(Adjacente(saomateusdosul, 77))\n",
        "  palmeira.adiciona_adjacente(Adjacente(campolargo, 55))\n",
        "\n",
        "  mafra.adiciona_adjacente(Adjacente(canoinhas, 66))\n",
        "  mafra.adiciona_adjacente(Adjacente(tijucasdosul, 99))\n",
        "  mafra.adiciona_adjacente(Adjacente(lapa, 57))\n",
        "\n",
        "  lapa.adiciona_adjacente(Adjacente(saomateusdosul, 60))\n",
        "  lapa.adiciona_adjacente(Adjacente(mafra, 57))\n",
        "  lapa.adiciona_adjacente(Adjacente(contenda, 26))\n",
        "\n",
        "  contenda.adiciona_adjacente(Adjacente(lapa, 26))\n",
        "  contenda.adiciona_adjacente(Adjacente(balsanova, 19))\n",
        "  contenda.adiciona_adjacente(Adjacente(araucaria, 18))\n",
        "\n",
        "  tijucasdosul.adiciona_adjacente(Adjacente(mafra, 99))\n",
        "  tijucasdosul.adiciona_adjacente(Adjacente(saojosedospinhais, 49))\n",
        "\n",
        "  araucaria.adiciona_adjacente(Adjacente(contenda, 18))\n",
        "  araucaria.adiciona_adjacente(Adjacente(curitiba, 37))\n",
        "\n",
        "  balsanova.adiciona_adjacente(Adjacente(contenda, 19))\n",
        "  balsanova.adiciona_adjacente(Adjacente(campolargo, 22))\n",
        "  balsanova.adiciona_adjacente(Adjacente(curitiba, 51))\n",
        "\n",
        "  saojosedospinhais.adiciona_adjacente(Adjacente(curitiba, 15))\n",
        "  saojosedospinhais.adiciona_adjacente(Adjacente(tijucasdosul, 49))\n",
        "\n",
        "  campolargo.adiciona_adjacente(Adjacente(palmeira, 55))\n",
        "  campolargo.adiciona_adjacente(Adjacente(balsanova, 22))\n",
        "  campolargo.adiciona_adjacente(Adjacente(curitiba, 29))\n",
        "\n",
        "  curitiba.adiciona_adjacente(Adjacente(campolargo, 29))\n",
        "  curitiba.adiciona_adjacente(Adjacente(saojosedospinhais, 15))\n",
        "  curitiba.adiciona_adjacente(Adjacente(araucaria, 37))\n",
        "  curitiba.adiciona_adjacente(Adjacente(balsanova, 51))\n",
        "\n",
        ""
      ],
      "metadata": {
        "id": "6SgKYvovWIfm"
      },
      "execution_count": 7,
      "outputs": []
    },
    {
      "cell_type": "code",
      "source": [
        "grafo = Grafo()"
      ],
      "metadata": {
        "id": "TweL33d6fXlE"
      },
      "execution_count": 8,
      "outputs": []
    },
    {
      "cell_type": "code",
      "source": [
        "grafo.portouniao.mostra_adjacentes()"
      ],
      "metadata": {
        "colab": {
          "base_uri": "https://localhost:8080/"
        },
        "id": "uFivPdU0fbm2",
        "outputId": "ab6e0cb7-f136-4d11-8293-933e5ba9869b"
      },
      "execution_count": 9,
      "outputs": [
        {
          "output_type": "stream",
          "name": "stdout",
          "text": [
            "Paulo Frontin 46\n",
            "Canoinhas 78\n",
            "Sao Mateus do Sul  87\n"
          ]
        }
      ]
    },
    {
      "cell_type": "code",
      "source": [
        "grafo.curitiba.mostra_adjacentes()"
      ],
      "metadata": {
        "colab": {
          "base_uri": "https://localhost:8080/"
        },
        "id": "B2HlCjZZfmNr",
        "outputId": "68429afc-c86b-4285-f68b-46bcd2ff3339"
      },
      "execution_count": 10,
      "outputs": [
        {
          "output_type": "stream",
          "name": "stdout",
          "text": [
            "Campo Largo 29\n",
            "Sao Jose dos Pinhais 15\n",
            "Araucaria 37\n",
            "Balsa Nova 51\n"
          ]
        }
      ]
    },
    {
      "cell_type": "code",
      "source": [
        "import numpy as np\n",
        "class VetorOrdenado:\n",
        "\n",
        "  def __init__(self, capacidade):\n",
        "    self.capacidade = capacidade\n",
        "    self.ultima_posicao = -1\n",
        "    # Mudança no tipo de dados\n",
        "    self.valores = np.empty(self.capacidade, dtype=object)\n",
        "\n",
        "  # Referência para o vértice e comparação com a distância para o objetivo\n",
        "  def insere(self, adjacente):\n",
        "    if self.ultima_posicao == self.capacidade - 1:\n",
        "      print('Capacidade máxima atingida')\n",
        "      return\n",
        "    posicao = 0\n",
        "    for i in range(self.ultima_posicao + 1):\n",
        "      posicao = i\n",
        "      if self.valores[i].distancia_aestrela > adjacente.distancia_aestrela:\n",
        "        break\n",
        "      if i == self.ultima_posicao:\n",
        "        posicao = i + 1\n",
        "    x = self.ultima_posicao\n",
        "    while x >= posicao:\n",
        "      self.valores[x + 1] = self.valores[x]\n",
        "      x -= 1\n",
        "    self.valores[posicao] = adjacente\n",
        "    self.ultima_posicao += 1\n",
        "\n",
        "  def imprime(self):\n",
        "    if self.ultima_posicao == -1:\n",
        "      print('O vetor está vazio')\n",
        "    else:\n",
        "      for i in range(self.ultima_posicao + 1):\n",
        "        print(i, ' - ', self.valores[i].vertice.rotulo, ' - ',\n",
        "              self.valores[i].custo, ' - ',\n",
        "              self.valores[i].vertice.distancia_objetivo, ' - ',\n",
        "              self.valores[i].distancia_aestrela)"
      ],
      "metadata": {
        "id": "nd1skAiof3Fk"
      },
      "execution_count": 11,
      "outputs": []
    },
    {
      "cell_type": "code",
      "source": [
        "class AEstrela:\n",
        "  def __init__(self, objetivo):\n",
        "    self.objetivo = objetivo\n",
        "    self.encontrado = False\n",
        "\n",
        "  def buscar(self, atual):\n",
        "    print('------------------')\n",
        "    print('Atual: {}'.format(atual.rotulo))\n",
        "    atual.visitado = True\n",
        "\n",
        "    if atual == self.objetivo:\n",
        "      self.encontrado = True\n",
        "    else:\n",
        "      vetor_ordenado = VetorOrdenado(len(atual.adjacentes))\n",
        "      for adjacente in atual.adjacentes:\n",
        "        if adjacente.vertice.visitado == False:\n",
        "          adjacente.vertice.visitado = True\n",
        "          vetor_ordenado.insere(adjacente)\n",
        "      vetor_ordenado.imprime()\n",
        "\n",
        "      if vetor_ordenado.valores[0] != None:\n",
        "        self.buscar(vetor_ordenado.valores[0].vertice)\n"
      ],
      "metadata": {
        "id": "_99INsnWgGZ2"
      },
      "execution_count": 13,
      "outputs": []
    },
    {
      "cell_type": "code",
      "source": [
        "busca_aestrela = AEstrela(grafo.curitiba)\n",
        "busca_aestrela.buscar(grafo.portouniao)"
      ],
      "metadata": {
        "colab": {
          "base_uri": "https://localhost:8080/"
        },
        "id": "11jejdeFg13_",
        "outputId": "aa1f7c50-0a03-42e5-f0cc-2cb33a58bde5"
      },
      "execution_count": 14,
      "outputs": [
        {
          "output_type": "stream",
          "name": "stdout",
          "text": [
            "------------------\n",
            "Atual: Porto Uniao\n",
            "0  -  Sao Mateus do Sul   -  87  -  123  -  210\n",
            "1  -  Paulo Frontin  -  46  -  172  -  218\n",
            "2  -  Canoinhas  -  78  -  141  -  219\n",
            "------------------\n",
            "Atual: Sao Mateus do Sul \n",
            "0  -  Lapa  -  60  -  74  -  134\n",
            "1  -  Palmeira  -  77  -  59  -  136\n",
            "2  -  Tres Barras  -  43  -  131  -  174\n",
            "3  -  Irati  -  57  -  139  -  196\n",
            "------------------\n",
            "Atual: Lapa\n",
            "0  -  Contenda  -  26  -  39  -  65\n",
            "1  -  Mafra  -  57  -  94  -  151\n",
            "------------------\n",
            "Atual: Contenda\n",
            "0  -  Araucaria  -  18  -  23  -  41\n",
            "1  -  Balsa Nova  -  19  -  41  -  60\n",
            "------------------\n",
            "Atual: Araucaria\n",
            "0  -  Curitiba  -  37  -  0  -  37\n",
            "------------------\n",
            "Atual: Curitiba\n"
          ]
        }
      ]
    }
  ]
}